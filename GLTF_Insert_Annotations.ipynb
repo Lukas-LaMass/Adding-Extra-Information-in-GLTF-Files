{
 "cells": [
  {
   "cell_type": "markdown",
   "metadata": {},
   "source": [
    "## Skript zum Hinzufügen von Anmerkungen in ein GLTF-Modell\n",
    "\n",
    "Dieses Skript fügt beliebige Informationen aus einer CSV-Datei in ein 3D-Modell im GLFT-Format ein. Dabei werden die Freiheiten genutzt, die die Property \"extras\" bietet. Siehe hierzu: https://registry.khronos.org/glTF/specs/2.0/glTF-2.0.html#reference-extras\n",
    "\n",
    "Als Eingabe werden eine CSV-Datei und ein GLFT-Model benötigt. Die CSV darf keine Umlaute, Anführungszeichen oder geschwungenen Klammern enthalten.\n",
    "\n",
    "**WICHTIG: Damit die Zuordnung funktioniert, muss die CSV in einer Spalte \"ID\" die exakte Bezeichnung der Meshes enthalten, denen die Informationen in der jweiligen Zeile besigschreiben werden sollen.**\n",
    "\n",
    "Erstellt von Lukas Lammers\n",
    "07.02.2024"
   ]
  },
  {
   "cell_type": "code",
   "execution_count": null,
   "metadata": {},
   "outputs": [],
   "source": [
    "#Lade Daten und Module\n",
    "\n",
    "import pandas as pd\n",
    "import json\n",
    "\n",
    "raw_data = pd.read_csv(\"C:\\\\path\\\\annotations.csv\", sep=\";\")\n",
    "\n",
    "#Esetzte Nullwerte durch den String \"nd\"\n",
    "raw_data = raw_data.fillna(\"nd\")\n",
    "\n",
    "glft_file = \"C:\\\\path\\\\GLTF-Model.gltf\"\n",
    "\n",
    "try:\n",
    "    with open(glft_file, 'r') as f:\n",
    "        data = json.load(f)\n",
    "        meshes = data.get('meshes', [])\n",
    "except FileNotFoundError:\n",
    "        print(\"Die angegebene JSON-Datei wurde nicht gefunden.\")\n",
    "\n",
    "#print(meshes)\n",
    "#print(raw_data)"
   ]
  },
  {
   "cell_type": "code",
   "execution_count": null,
   "metadata": {},
   "outputs": [],
   "source": [
    "#Wandle Dataframe in Dictionary um\n",
    "def dataframe_to_dict(dataframe):\n",
    "    return dataframe.to_dict(orient=\"records\")\n",
    "\n",
    "annotation_list = dataframe_to_dict(raw_data)\n",
    "print(annotation_list)"
   ]
  },
  {
   "cell_type": "code",
   "execution_count": null,
   "metadata": {},
   "outputs": [],
   "source": [
    "#Funktion zum Finden eines Meshes\n",
    "def find_mesh_by_name(json_file, target_name):\n",
    "            # Durchsuche die Liste der Meshes nach dem jeweiligen target_name\n",
    "            for mesh in meshes:\n",
    "                if mesh.get('name') == target_name:\n",
    "                    return mesh  # Rückgabe des gefundenen Mesh-Objekts\n",
    "            else:\n",
    "                return None\n"
   ]
  },
  {
   "cell_type": "code",
   "execution_count": null,
   "metadata": {},
   "outputs": [],
   "source": [
    "#Skript\n",
    "\n",
    "for annotaion in annotation_list:\n",
    "    #Finde das Mesh mit der ID des aktuellen Annotationsobjekts\n",
    "    target_name = annotaion[\"ID\"]\n",
    "    found_mesh = find_mesh_by_name(glft_file, target_name)\n",
    "    if found_mesh:\n",
    "        print(\"Mesh mit dem Namen '{}' gefunden.\".format(target_name))\n",
    "        #Extrahiere das jeweilge Mesh\n",
    "        filtered_mesh = [mesh for mesh in meshes if mesh[\"name\"] == target_name]\n",
    "        #Speichere das jeweilge Mesh, bevor es verändert wird\n",
    "        old_mesh = filtered_mesh[0]\n",
    "        #Extrahiere den Datensatz aus den Anmerkungen\n",
    "        filtered_data = [annotaion for annotaion in annotation_list if annotaion[\"ID\"] == target_name]\n",
    "        #Auflösen der Listen\n",
    "        filtered_mesh = filtered_mesh[0]\n",
    "        filtered_data = filtered_data[0]\n",
    "        #Erweitere das zuvor extrahierte Mesh um die Informationen des zuvor extrahierten Datensatzes\n",
    "        filtered_mesh[\"extras\"] = filtered_data\n",
    "        #Ersetze das alte Mesh-Objekt durch das neue\n",
    "        for idx, item in enumerate(data):\n",
    "            if item == old_mesh:\n",
    "                data[idx] = filtered_mesh        \n",
    "    else:\n",
    "        print(\"Mesh mit dem Namen '{}' nicht gefunden.\".format(target_name))\n",
    "\n",
    "#Speichere die veränderten Daten in der GLTF-Datei.\n",
    "with open(glft_file, 'w') as f:\n",
    "    json.dump(data, f, indent=4)\n",
    "    print(\"Die Datei wurde erfolgreich gespeichert.\")"
   ]
  }
 ],
 "metadata": {
  "kernelspec": {
   "display_name": "Python 3",
   "language": "python",
   "name": "python3"
  },
  "language_info": {
   "codemirror_mode": {
    "name": "ipython",
    "version": 3
   },
   "file_extension": ".py",
   "mimetype": "text/x-python",
   "name": "python",
   "nbconvert_exporter": "python",
   "pygments_lexer": "ipython3",
   "version": "3.11.5"
  }
 },
 "nbformat": 4,
 "nbformat_minor": 2
}
